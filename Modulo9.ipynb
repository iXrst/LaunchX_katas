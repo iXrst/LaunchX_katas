{
  "cells": [
    {
      "cell_type": "markdown",
      "metadata": {},
      "source": [
        "## Ejercicio01: Uso de funciones en Python"
      ]
    },
    {
      "cell_type": "markdown",
      "metadata": {},
      "source": [
        "### Ejercicio 1: Trabajar con argumentos en funciones\n",
        "\n",
        "Los argumentos requeridos en las funciones se utilizan cuando las funciones necesitan que esos argumentos funcionen correctamente. En este ejercicio, construirás un informe de combustible que requiere información de varias ubicaciones de combustible en todo el cohete.\n",
        "\n"
      ]
    },
    {
      "cell_type": "markdown",
      "metadata": {},
      "source": [
        "> **TIP**\n",
        "> Dedica unos minutos para tratar de encontrar una solución. Luego desplázate hacia abajo hasta la parte inferior para ver si has logrado compilar el programa de acuerdo con las especificaciones\n",
        "\n",
        "Comienza por crear una función que necesite tres lecturas de combustible y devuelva un informe:"
      ]
    },
    {
      "cell_type": "code",
      "execution_count": 2,
      "metadata": {},
      "outputs": [],
      "source": [
        "# Función para leer 3 tanques de combustible y muestre el promedio\n",
        "def func_informe(tanque1, tanque2, tanque3):\n",
        "    average = (tanque1 + tanque2 + tanque3) / 3\n",
        "    print(\"Tanque1: \", tanque1, \"Tanque2: \", tanque2, \"Tanque3: \", tanque3, \"Promedio: \", average)\n",
        "    return "
      ]
    },
    {
      "cell_type": "markdown",
      "metadata": {},
      "source": [
        "Ahora que hemos definido la función de informes, vamos a comprobarlo. Para esta misión, los tanques no están llenos:"
      ]
    },
    {
      "cell_type": "code",
      "execution_count": 3,
      "metadata": {},
      "outputs": [
        {
          "name": "stdout",
          "output_type": "stream",
          "text": [
            "Tanque1:  3 Tanque2:  2 Tanque3:  1 Promedio:  2.0\n"
          ]
        }
      ],
      "source": [
        "# Llamamos a la función que genera el reporte print(funcion(tanque1, tanque2, tanque3))\n",
        "#Tanque1: 3%, Tanque2: 2%, Tanque3: 1%\n",
        "func_informe(3, 2, 1)"
      ]
    },
    {
      "cell_type": "markdown",
      "metadata": {},
      "source": [
        "En lugar de simplemente crear el informe, la función también está calculando el promedio. Mejora la legibilidad extrayendo el cálculo promedio de la función en una nueva función para que el promedio se pueda hacer de forma independiente:"
      ]
    },
    {
      "cell_type": "code",
      "execution_count": 4,
      "metadata": {},
      "outputs": [],
      "source": [
        "# Función promedio \n",
        "def func_promedio(tanque1, tanque2, tanque3):\n",
        "    average = (tanque1 + tanque2 + tanque3) / 3\n",
        "    print(\"Promedio: \", average, \"%\")\n",
        "    return"
      ]
    },
    {
      "cell_type": "markdown",
      "metadata": {},
      "source": [
        "Ahora actualiza la función de informes para llamando a la nueva función del promedio:\n"
      ]
    },
    {
      "cell_type": "code",
      "execution_count": 5,
      "metadata": {},
      "outputs": [
        {
          "name": "stdout",
          "output_type": "stream",
          "text": [
            "Tanque1:  3 % , Tanque2:  2 % , Tanque3:  1 %\n",
            "Promedio:  2.0 %\n"
          ]
        }
      ],
      "source": [
        "# Actualiza la función\n",
        "def func_informe(tanque1, tanque2, tanque3):\n",
        "    print(\"Tanque1: \", tanque1,\"% , Tanque2: \", tanque2,\"% , Tanque3: \", tanque3,\"%\")\n",
        "    func_promedio(tanque1, tanque2, tanque3)\n",
        "    return \n",
        "\n",
        "func_informe(3, 2, 1)"
      ]
    },
    {
      "cell_type": "markdown",
      "metadata": {},
      "source": [
        "> Recuerda: Lo importante es intentarlo, puedes auxiliarte de internet, libros, etc. El objetivo de una kata es la comprobación de la comprensión de la lección y su aplicación inmediata a la resolución de problemas. Go for it!"
      ]
    },
    {
      "cell_type": "markdown",
      "metadata": {},
      "source": [
        "## Ejercicio 2: Trabajo con argumentos de palabra clave"
      ]
    },
    {
      "cell_type": "markdown",
      "metadata": {},
      "source": [
        "### Ejercicio : Trabajar con argumentos de palabras clave en funciones\n",
        "En este ejercicio, construirás un informe de cohete que requiere varias piezas de información, como el tiempo hasta el destino, el combustible a la izquierda y el nombre del destino. Comienza por crear una función que creará un informe preciso de la misión:"
      ]
    },
    {
      "cell_type": "code",
      "execution_count": 6,
      "metadata": {},
      "outputs": [
        {
          "name": "stdout",
          "output_type": "stream",
          "text": [
            "\n",
            "          Misión a  Marte, con horario de prelanzamiento a las 14 hrs.\n",
            "          Tiempo de vuelo de: 51 días.\n",
            "          Total de combustible de tanque externo: 2000000 litros.\n",
            "          Total de combustible de tanque interno: 3000000 litros.\n",
            "          \n"
          ]
        }
      ],
      "source": [
        "# Función con un informe preciso de la misión. Considera hora de prelanzamiento, tiempo de vuelo, destino, tanque externo y tanque interno\n",
        "def func_reporte(hora_prelanzamiento, tiempo_vuelo, destino, tanque_externo, tanque_interno):\n",
        "    print(f\"\"\"\n",
        "          Misión a  {destino}, con horario de prelanzamiento a las {hora_prelanzamiento} hrs.\n",
        "          Tiempo de vuelo de: {tiempo_vuelo} días.\n",
        "          Total de combustible de tanque externo: {tanque_externo} litros.\n",
        "          Total de combustible de tanque interno: {tanque_interno} litros.\n",
        "          \"\"\")\n",
        "    return\n",
        "\n",
        "func_reporte(14, 51, \"Marte\", 2000000, 3000000)"
      ]
    },
    {
      "cell_type": "markdown",
      "metadata": {},
      "source": [
        "La función es problemática porque no se puede adaptar para minutos adicionales o tanques adicionales de combustible. Hazlo más flexible permitiendo cualquier número de pasos basados en el tiempo y cualquier número de tanques. En lugar de usar `*args` y `**kwargs`, aprovecha el hecho de que puedes usar cualquier nombre que desees. Asegurate que la función sea más legible mediante el uso de nombres de variables que están asociados con las entradas, como `*minutes` y `**fuel_reservoirs`:"
      ]
    },
    {
      "cell_type": "code",
      "execution_count": 7,
      "metadata": {},
      "outputs": [
        {
          "name": "stdout",
          "output_type": "stream",
          "text": [
            "\n",
            "    Misión a Marte\n",
            "    Total travel time: 29 minutes\n",
            "    Total fuel left: 5000000\n",
            "    \n"
          ]
        }
      ],
      "source": [
        "# Escribe tu nueva función de reporte considerando lo anterior\n",
        "def func_reporte(destino, *minutes, **fuel_reservoirs):\n",
        "    return f\"\"\"\n",
        "    Misión a {destino}\n",
        "    Total travel time: {sum(minutes)} minutes\n",
        "    Total fuel left: {sum(fuel_reservoirs.values())}\n",
        "    \"\"\"\n",
        "\n",
        "print(func_reporte(\"Marte\", 14, 15, interno= 2000000, externo= 3000000))"
      ]
    },
    {
      "cell_type": "markdown",
      "metadata": {},
      "source": [
        "Debido a que el combustible que queda en los tanques es específico de cada tanque, actualiza la función para usar el nombre de cada tanque en el informe:"
      ]
    },
    {
      "cell_type": "code",
      "execution_count": 8,
      "metadata": {},
      "outputs": [
        {
          "name": "stdout",
          "output_type": "stream",
          "text": [
            "\n",
            "    Misión a Marte\n",
            "    Total travel time: 29 minutes\n",
            "    Total fuel left: 5000000\n",
            "    ************************************************\n",
            "    \tTanque interno con: 2000000 litros\n",
            "\tTanque externo con: 3000000 litros\n",
            "\n"
          ]
        }
      ],
      "source": [
        "# Escribe tu nueva función\n",
        "def func_reporte(destino, *minutes, **fuel_reservoirs):\n",
        "    reporte_principal = f\"\"\"\n",
        "    Misión a {destino}\n",
        "    Total travel time: {sum(minutes)} minutes\n",
        "    Total fuel left: {sum(fuel_reservoirs.values())}\n",
        "    ************************************************\n",
        "    \"\"\"\n",
        "    for tank_name, liters in fuel_reservoirs.items():\n",
        "        reporte_principal += f\"\\tTanque {tank_name} con: {liters} litros\\n\"\n",
        "\n",
        "    return reporte_principal\n",
        "\n",
        "print(func_reporte(\"Marte\", 14, 15, interno= 2000000, externo= 3000000))"
      ]
    }
  ],
  "metadata": {
    "interpreter": {
      "hash": "205095b8b86ea82a021a8fc2ffba2b3bc9f8d0be25999901963b225939f75778"
    },
    "kernelspec": {
      "display_name": "Python 3.8.10 64-bit ('tmp': conda)",
      "name": "python3"
    },
    "language_info": {
      "codemirror_mode": {
        "name": "ipython",
        "version": 3
      },
      "file_extension": ".py",
      "mimetype": "text/x-python",
      "name": "python",
      "nbconvert_exporter": "python",
      "pygments_lexer": "ipython3",
      "version": "3.9.7"
    },
    "nteract": {
      "version": "nteract-front-end@1.0.0"
    },
    "orig_nbformat": 4
  },
  "nbformat": 4,
  "nbformat_minor": 2
}
